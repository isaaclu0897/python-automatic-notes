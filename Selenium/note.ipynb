{
 "cells": [
  {
   "cell_type": "markdown",
   "metadata": {},
   "source": [
    "Chapter 1\n",
    "==="
   ]
  },
  {
   "cell_type": "markdown",
   "metadata": {},
   "source": [
    "Selenium就是一個自動化框架，透過它提供的WebDriver（API），我們可以模擬使用者的行為與瀏覽器交互。\n",
    "\n",
    "下面是透過一個腳本，瞭解Selenium基本的運作："
   ]
  },
  {
   "cell_type": "code",
   "execution_count": 1,
   "metadata": {
    "scrolled": true
   },
   "outputs": [
    {
     "name": "stdout",
     "output_type": "stream",
     "text": [
      "Found 8 titles:\n",
      "All Samsung phones - GSMArena.com\n",
      "GSMArena.com - mobile phone reviews, news, specifications ...\n",
      "Phones | TechRadar\n",
      "The Best Phones for 2020 | PCMag\n",
      "Phones & Tablets | Android\n",
      "最新Nokia Android 系統智慧型手機及手機| Nokia 手機台灣\n",
      "Phone Reviews - CNET\n",
      "Cell Phones & Smartphones | Shop the Newest Mobile ...\n"
     ]
    }
   ],
   "source": [
    "# %load ./chapter01/searchproducts.py\n",
    "from selenium import webdriver\n",
    "\n",
    "# create a new Firefox session\n",
    "driver = webdriver.Firefox()\n",
    "driver.implicitly_wait(5)\n",
    "# driver.maximize_window()\n",
    "\n",
    "# navigate to the application home page\n",
    "driver.get('http://www.google.com/')\n",
    "# \n",
    "# get the search textbox\n",
    "search_field = driver.find_element_by_name('q')\n",
    "search_field.clear()\n",
    "\n",
    "# enter search keyword and submit\n",
    "search_field.send_keys('phones')\n",
    "search_field.submit()\n",
    "\n",
    "# get all the anchor elements which have product names displayed\n",
    "# currently on result page using find_elements_by_xpath method\n",
    "titles = driver.find_elements_by_xpath(\"//a/h3[@class='LC20lb DKV0Md']\")\n",
    "\n",
    "# get the number of anchor elements found\n",
    "print('Found ' + str(len(titles)) + ' titles:')\n",
    "\n",
    "# iterate through each anchor element and\n",
    "# print the text that is name of the product\n",
    "for title in titles:\n",
    "    print(title.text)\n",
    "\n",
    "# close the browser window\n",
    "driver.quit()\n"
   ]
  }
 ],
 "metadata": {
  "kernelspec": {
   "display_name": "selenium",
   "language": "python",
   "name": "selenium"
  },
  "language_info": {
   "codemirror_mode": {
    "name": "ipython",
    "version": 3
   },
   "file_extension": ".py",
   "mimetype": "text/x-python",
   "name": "python",
   "nbconvert_exporter": "python",
   "pygments_lexer": "ipython3",
   "version": "3.6.8"
  }
 },
 "nbformat": 4,
 "nbformat_minor": 4
}
